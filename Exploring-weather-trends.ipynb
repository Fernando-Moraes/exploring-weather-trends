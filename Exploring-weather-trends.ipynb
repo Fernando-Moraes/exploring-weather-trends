{
 "cells": [
  {
   "cell_type": "markdown",
   "metadata": {},
   "source": [
    "# Exploring Weather Trends \n",
    "## Summary\n",
    "In this project, local and global temperature data were analized in order to compare the weather trends in a brazilian city to overall global weather trends.\n",
    "\n",
    "## Tools\n",
    "The following tools were used in this project:\n",
    "- SQL: to extract the temperature data\n",
    "- Python: to calculate moving avarage and to plot line chart\n",
    "- Jupyter Notebooks: to create this document, enabling describe analyzes and show the results\n",
    "\n",
    "## Extracting Data\n",
    "The global temperature data was extracted using the SQL command below.\n",
    "\n",
    "```\n",
    "select * from global_data;\n",
    "```\n",
    "\n",
    "The brazilian cities was listed using the following SQL command.\n",
    "\n",
    "```\n",
    "select distinct city from city_list where country = 'Brazil';\n",
    "```\n",
    "\n",
    "Guarulhos was chosen because it is closer to São Paulo city, where I live. This city is the second most populous city in the state of São Paulo and one of the Brazilian main airports is located there. The SQL query used to extract the data was:\n",
    "\n",
    "```\n",
    "select year, avg_temp as guarulhos_avg_temp from city_data where country = 'Brazil' and city = 'Guarulhos';\n",
    "```\n",
    "\n",
    "## Analysing The Temperature Data\n",
    "Two libraries were very important to the analysis, **pandas** for creating data sets and **matplotlib** for calculating moving average and plotting line chart."
   ]
  },
  {
   "cell_type": "code",
   "execution_count": 2,
   "metadata": {},
   "outputs": [],
   "source": [
    "import pandas as pd\n",
    "import matplotlib.pyplot as plt"
   ]
  },
  {
   "cell_type": "markdown",
   "metadata": {},
   "source": [
    "Comparing the Guarulhos weather trends to the global weather trends was decided at first, so merge the local to global data was necessary to create a data set."
   ]
  },
  {
   "cell_type": "code",
   "execution_count": 3,
   "metadata": {},
   "outputs": [
    {
     "name": "stdout",
     "output_type": "stream",
     "text": [
      "     year  guarulhos_avg_temp  global_avg_temp\n",
      "0    1832               18.94             7.45\n",
      "1    1833               19.93             8.01\n",
      "2    1834               19.21             8.15\n",
      "3    1835               18.62             7.39\n",
      "4    1836               18.84             7.70\n",
      "..    ...                 ...              ...\n",
      "177  2009               20.78             9.51\n",
      "178  2010               20.72             9.70\n",
      "179  2011               20.33             9.52\n",
      "180  2012               21.02             9.51\n",
      "181  2013               20.07             9.61\n",
      "\n",
      "[182 rows x 3 columns]\n"
     ]
    }
   ],
   "source": [
    "guarulhosData = pd.read_csv(\"guarulhos_data.csv\")\n",
    "globalData = pd.read_csv(\"global_data.csv\")\n",
    "\n",
    "dataSet = guarulhosData.merge(globalData, left_on='year', right_on='year', how='inner')\n",
    "print(dataSet)"
   ]
  },
  {
   "cell_type": "markdown",
   "metadata": {},
   "source": [
    "For calculating the moving average was used a window of 20 years, it was enough to smooth out data to make it easier to observe long term trends."
   ]
  },
  {
   "cell_type": "code",
   "execution_count": 4,
   "metadata": {},
   "outputs": [],
   "source": [
    "guarulhosSma = dataSet.guarulhos_avg_temp.rolling(window=20).mean()\n",
    "globalSma = dataSet.global_avg_temp.rolling(window=20).mean()"
   ]
  },
  {
   "cell_type": "markdown",
   "metadata": {},
   "source": [
    "A line chart that compares the Guarulhos temperatures with the global temperatures was created. It was configured to plot the 20 year moving average data and to show years on X-axis and temperature(centigrade scale) on Y-axis. "
   ]
  },
  {
   "cell_type": "code",
   "execution_count": 6,
   "metadata": {},
   "outputs": [
    {
     "data": {
      "image/png": "[encoded data removed]",
      "text/plain": [
       "<Figure size 432x288 with 1 Axes>"
      ]
     },
     "metadata": {
      "needs_background": "light"
     },
     "output_type": "display_data"
    }
   ],
   "source": [
    "plt.plot(dataSet.year, guarulhosSma, label='Guarulhos')\n",
    "plt.plot(dataSet.year, globalSma, label='Global')\n",
    "plt.legend(loc='best')\n",
    "plt.title(label='20 Years Moving Average')\n",
    "plt.xlabel('Year')\n",
    "plt.ylabel('Temperature(Cº)')\n",
    "plt.show()"
   ]
  },
  {
   "cell_type": "markdown",
   "metadata": {},
   "source": [
    "The relationship between the global and the local temperatures was analyzed calculating the correlation coefficient. It was used the Pearson correlation coefficient formula to measure how strong is the relationship:\n",
    "$$\\rho = \\frac{\\text{cov}(X,Y)}{\\sigma_x \\sigma_y} = \\frac{{}\\sum_{i=1}^{n} (x_i - \\overline{x})(y_i - \\overline{y})}\n",
    "{\\sqrt{\\sum_{i=1}^{n} (x_i - \\overline{x})^2(y_i - \\overline{y})^2}}$$\n",
    "\n",
    "The pandas function **corr()** uses the pearson method by default, so the following implementation was used:"
   ]
  },
  {
   "cell_type": "code",
   "execution_count": 7,
   "metadata": {},
   "outputs": [
    {
     "name": "stdout",
     "output_type": "stream",
     "text": [
      "The correlation coefficient is 0.79\n"
     ]
    }
   ],
   "source": [
    "correlationCoefficient = dataSet.global_avg_temp.corr(dataSet.guarulhos_avg_temp)\n",
    "print (\"The correlation coefficient is %.2f\" % correlationCoefficient)"
   ]
  },
  {
   "cell_type": "markdown",
   "metadata": {},
   "source": [
    "The formula return a value between -1 and 1, where:\n",
    " \n",
    "    1 indicates a very strong positive relationship.\n",
    "    -1 indicates a very strong negative relationship.\n",
    "    0 indicates no relationship at all.\n",
    "\n",
    "The correlation coefficient is 0.79, so there is a strong relationship between the global and the local temperatures.\n",
    "\n",
    "## Observations\n",
    "    - The Guarulhos average temperature is higher than the global average temperature.\n",
    "    - The global average temperature is increasing faster than the local temperature.\n",
    "    - Over the last 35 years the global average temperature has increased by around 1 degree.\n",
    "    - The graphs shows the average temperature is increasing slowly, indicating the earth is getting hotter."
   ]
  },
  {
   "cell_type": "code",
   "execution_count": null,
   "metadata": {},
   "outputs": [],
   "source": []
  }
 ],
 "metadata": {
  "kernelspec": {
   "display_name": "Python 3",
   "language": "python",
   "name": "python3"
  },
  "language_info": {
   "codemirror_mode": {
    "name": "ipython",
    "version": 3
   },
   "file_extension": ".py",
   "mimetype": "text/x-python",
   "name": "python",
   "nbconvert_exporter": "python",
   "pygments_lexer": "ipython3",
   "version": "3.6.3"
  }
 },
 "nbformat": 4,
 "nbformat_minor": 2
}
